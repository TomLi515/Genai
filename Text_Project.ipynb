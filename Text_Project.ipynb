{
  "cells": [
    {
      "cell_type": "code",
      "execution_count": null,
      "metadata": {
        "id": "foWRigE04B6j"
      },
      "outputs": [],
      "source": [
        "!pip install transformers torchtext nltk rouge_score --quiet\n"
      ]
    },
    {
      "cell_type": "code",
      "execution_count": 53,
      "metadata": {
        "colab": {
          "base_uri": "https://localhost:8080/"
        },
        "id": "qLYf_14ookN6",
        "outputId": "fc25a0be-c978-4abb-f1d9-92fc77e60f18"
      },
      "outputs": [
        {
          "name": "stdout",
          "output_type": "stream",
          "text": [
            "\u001b[2K   \u001b[90m━━━━━━━━━━━━━━━━━━━━━━━━━━━━━━━━━━━━━━━━\u001b[0m \u001b[32m54.2/54.2 MB\u001b[0m \u001b[31m46.4 MB/s\u001b[0m eta \u001b[36m0:00:00\u001b[0m\n",
            "\u001b[2K   \u001b[90m━━━━━━━━━━━━━━━━━━━━━━━━━━━━━━━━━━━━━━━━\u001b[0m \u001b[32m323.1/323.1 kB\u001b[0m \u001b[31m29.4 MB/s\u001b[0m eta \u001b[36m0:00:00\u001b[0m\n",
            "\u001b[2K   \u001b[90m━━━━━━━━━━━━━━━━━━━━━━━━━━━━━━━━━━━━━━━━\u001b[0m \u001b[32m95.2/95.2 kB\u001b[0m \u001b[31m9.4 MB/s\u001b[0m eta \u001b[36m0:00:00\u001b[0m\n",
            "\u001b[2K   \u001b[90m━━━━━━━━━━━━━━━━━━━━━━━━━━━━━━━━━━━━━━━━\u001b[0m \u001b[32m11.5/11.5 MB\u001b[0m \u001b[31m114.5 MB/s\u001b[0m eta \u001b[36m0:00:00\u001b[0m\n",
            "\u001b[2K   \u001b[90m━━━━━━━━━━━━━━━━━━━━━━━━━━━━━━━━━━━━━━━━\u001b[0m \u001b[32m72.0/72.0 kB\u001b[0m \u001b[31m6.5 MB/s\u001b[0m eta \u001b[36m0:00:00\u001b[0m\n",
            "\u001b[2K   \u001b[90m━━━━━━━━━━━━━━━━━━━━━━━━━━━━━━━━━━━━━━━━\u001b[0m \u001b[32m62.5/62.5 kB\u001b[0m \u001b[31m6.4 MB/s\u001b[0m eta \u001b[36m0:00:00\u001b[0m\n",
            "\u001b[?25h"
          ]
        }
      ],
      "source": [
        "!pip install gradio --quiet"
      ]
    },
    {
      "cell_type": "code",
      "execution_count": 54,
      "metadata": {
        "id": "hLI8YcVdnghc"
      },
      "outputs": [],
      "source": [
        "# Environment setup\n",
        "import os\n",
        "import random\n",
        "import numpy as np\n",
        "import pandas as pd\n",
        "from sklearn.model_selection import train_test_split\n",
        "import torch\n",
        "from torch import nn\n",
        "from torch.utils.data import Dataset, DataLoader\n",
        "from transformers import GPT2Tokenizer, GPT2LMHeadModel, Trainer, TrainingArguments\n",
        "import nltk\n",
        "from nltk.translate.bleu_score import sentence_bleu, SmoothingFunction\n",
        "from rouge_score import rouge_scorer\n",
        "import matplotlib.pyplot as plt\n",
        "import kagglehub\n",
        "import os, glob\n",
        "import pandas as pd\n",
        "from tqdm import tqdm\n",
        "import re\n",
        "\n",
        "import gradio as gr\n"
      ]
    },
    {
      "cell_type": "code",
      "execution_count": null,
      "metadata": {
        "colab": {
          "base_uri": "https://localhost:8080/"
        },
        "id": "8Zy7J3nPjdg8",
        "outputId": "e6ef254c-ac69-42d6-a4e0-13b6d0148bca"
      },
      "outputs": [
        {
          "name": "stdout",
          "output_type": "stream",
          "text": [
            "Drive already mounted at /content/drive; to attempt to forcibly remount, call drive.mount(\"/content/drive\", force_remount=True).\n",
            "Dataset URL: https://www.kaggle.com/datasets/davidmckinley/all-the-news-dataset\n",
            "License(s): unknown\n",
            "Downloading all-the-news-dataset.zip to /content/drive/MyDrive/all_news\n",
            " 99% 3.12G/3.16G [01:01<00:00, 185MB/s]\n",
            "100% 3.16G/3.16G [01:01<00:00, 55.2MB/s]\n"
          ]
        },
        {
          "name": "stderr",
          "output_type": "stream",
          "text": [
            "<ipython-input-5-52841842b75f>:12: DtypeWarning: Columns (1,3,5) have mixed types. Specify dtype option on import or set low_memory=False.\n",
            "  df = pd.concat([pd.read_csv(f) for f in csv_files], ignore_index=True)\n"
          ]
        }
      ],
      "source": [
        "# Download and get data\n",
        "from google.colab import drive\n",
        "drive.mount('/content/drive')\n",
        "\n",
        "os.environ['KAGGLE_USERNAME'] = 'zelinli515'\n",
        "os.environ['KAGGLE_KEY']      = '2cbc5ce9c5cc3166f35fe1e20c75da6a'\n",
        "!mkdir -p /content/drive/MyDrive/all_news\n",
        "!kaggle datasets download -d davidmckinley/all-the-news-dataset \\\n",
        "    -p /content/drive/MyDrive/all_news --unzip\n",
        "\n",
        "DATA_DIR = \"/content/drive/MyDrive/all_news\"\n",
        "csv_files = glob.glob(f\"{DATA_DIR}/*.csv\")\n",
        "df = pd.concat([pd.read_csv(f) for f in csv_files], ignore_index=True)\n"
      ]
    },
    {
      "cell_type": "code",
      "execution_count": null,
      "metadata": {
        "colab": {
          "base_uri": "https://localhost:8080/"
        },
        "id": "NtGcAQ3AJMSU",
        "outputId": "717a1e80-ba08-4f83-e664-d0198066e808"
      },
      "outputs": [
        {
          "name": "stderr",
          "output_type": "stream",
          "text": [
            "[nltk_data] Downloading package punkt to /root/nltk_data...\n",
            "[nltk_data]   Package punkt is already up-to-date!\n"
          ]
        }
      ],
      "source": [
        "# Setup\n",
        "nltk.download('punkt')\n",
        "SEED = 42\n",
        "random.seed(SEED)\n",
        "np.random.seed(SEED)\n",
        "torch.manual_seed(SEED)\n",
        "DEVICE = torch.device(\"cuda\" if torch.cuda.is_available() else \"cpu\")\n",
        "\n",
        "MAX_LEN_ARTICLE = 512\n",
        "MAX_LEN_HEADLINE = 32\n",
        "BATCH_SIZE = 8\n",
        "EMBED_DIM = 256\n",
        "NUM_LAYERS = 2\n",
        "LR = 5e-4\n",
        "EPOCHS = 10\n",
        "TRANSFORMER_HEADS = 8\n",
        "\n",
        "TRANSFORMER_LAYERS = 2\n",
        "HIDDEN_SIZE         = 256\n",
        "TRANSFORMER_FF      = 512\n",
        "DROPOUT_RATE        = 0.0"
      ]
    },
    {
      "cell_type": "code",
      "execution_count": null,
      "metadata": {
        "id": "XqlPl0MOJTer"
      },
      "outputs": [],
      "source": [
        "# Clean the data, only use random 15000 rows\n",
        "SUBSET_SIZE = 15000\n",
        "df = df.sample(n=SUBSET_SIZE, random_state=SEED).reset_index(drop=True)\n",
        "df = df.dropna(subset=[\"title\", \"article\"])[[\"article\", \"title\"]]\n",
        "df[\"article\"] = df[\"article\"].str.replace(r\"\\s+\", \" \", regex=True).str.strip()\n",
        "df[\"title\"] = df[\"title\"].str.replace(r\"\\s+\", \" \", regex=True).str.strip()\n",
        "df = df[df[\"title\"].str.len() > 0].reset_index(drop=True)\n",
        "df = df[df[\"article\"].str.len() > 0].reset_index(drop=True)\n",
        "\n"
      ]
    },
    {
      "cell_type": "code",
      "execution_count": null,
      "metadata": {
        "colab": {
          "base_uri": "https://localhost:8080/"
        },
        "id": "ABJFJm0TJZGn",
        "outputId": "6fd89b82-d387-4bc6-feaf-823f1ed84945"
      },
      "outputs": [
        {
          "name": "stdout",
          "output_type": "stream",
          "text": [
            "Train: 11694 | Val: 1300 | Test: 1444\n"
          ]
        }
      ],
      "source": [
        "# Split train, val, test\n",
        "train_df, test_df = train_test_split(df, test_size=0.10, random_state=SEED, shuffle=True)\n",
        "train_df, val_df  = train_test_split(train_df, test_size=0.10, random_state=SEED, shuffle=True)\n",
        "print(f\"Train: {len(train_df)} | Val: {len(val_df)} | Test: {len(test_df)}\")"
      ]
    },
    {
      "cell_type": "code",
      "execution_count": 39,
      "metadata": {
        "id": "E-an9_rCJed7"
      },
      "outputs": [],
      "source": [
        "# Tokenizer\n",
        "tokenizer = GPT2Tokenizer.from_pretrained(\"gpt2\")\n",
        "tokenizer.add_special_tokens({\"bos_token\":\"<BOS>\", \"eos_token\":\"<EOS>\", \"sep_token\":\"<SEP>\"})\n",
        "tokenizer.add_special_tokens({\"pad_token\":\"<PAD>\"})\n",
        "PAD = tokenizer.pad_token_id\n",
        "BOS = tokenizer.bos_token_id\n",
        "EOS = tokenizer.eos_token_id\n",
        "SEP = tokenizer.sep_token_id\n",
        "tokenizer.padding_side = \"left\""
      ]
    },
    {
      "cell_type": "code",
      "execution_count": null,
      "metadata": {
        "id": "4ogXvZ22JhlC"
      },
      "outputs": [],
      "source": [
        "# Dataset for Seq2Seq and Transformer\n",
        "class Seq2SeqDataset(Dataset):\n",
        "    def __init__(self, df):\n",
        "        self.articles = df[\"article\"].tolist()\n",
        "        self.heads    = df[\"title\"].tolist()\n",
        "\n",
        "    def __len__(self):\n",
        "        return len(self.articles)\n",
        "\n",
        "    def __getitem__(self, idx):\n",
        "        art = self.articles[idx]\n",
        "        hl  = self.heads[idx]\n",
        "        # tokenize article\n",
        "        enc = tokenizer(\n",
        "            art,\n",
        "            max_length=MAX_LEN_ARTICLE,\n",
        "            truncation=True,\n",
        "            padding=\"max_length\",\n",
        "            return_tensors=\"pt\"\n",
        "        )\n",
        "        # tokenize headline with BOS/EOS\n",
        "        tgt = tokenizer(\n",
        "            \"<BOS> \" + hl + \" <EOS>\",\n",
        "            max_length=MAX_LEN_HEADLINE,\n",
        "            truncation=True,\n",
        "            padding=\"max_length\",\n",
        "            return_tensors=\"pt\"\n",
        "        )\n",
        "        input_ids = enc[\"input_ids\"].squeeze(0)\n",
        "        attention_mask = enc[\"attention_mask\"].squeeze(0)\n",
        "        labels = tgt[\"input_ids\"].squeeze(0)\n",
        "        # prepare decoder inputs & shifted labels\n",
        "        decoder_input_ids = labels[:-1].clone()\n",
        "        decoder_labels    = labels[1:].clone()\n",
        "        decoder_labels[decoder_labels == PAD] = -100\n",
        "        return {\n",
        "            \"input_ids\":         input_ids,\n",
        "            \"attention_mask\":    attention_mask,\n",
        "            \"decoder_input_ids\": decoder_input_ids,\n",
        "            \"decoder_labels\":    decoder_labels\n",
        "        }"
      ]
    },
    {
      "cell_type": "code",
      "execution_count": null,
      "metadata": {
        "id": "4QhM1vu1wd_a"
      },
      "outputs": [],
      "source": [
        "# Dataset for GPT-2 fine-tuning\n",
        "class GPT2HeadlineDataset(Dataset):\n",
        "    def __init__(self, df):\n",
        "        self.articles = df[\"article\"].tolist()\n",
        "        self.heads    = df[\"title\"].tolist()\n",
        "\n",
        "    def __len__(self):\n",
        "        return len(self.articles)\n",
        "\n",
        "    def __getitem__(self, idx):\n",
        "        art = self.articles[idx]\n",
        "        hl  = self.heads[idx]\n",
        "        # build sequence: BOS + article + SEP + headline + EOS\n",
        "        seq = \"<BOS> \" + art + \" <SEP> \" + hl + \" <EOS>\"\n",
        "        enc = tokenizer(\n",
        "            seq,\n",
        "            max_length=MAX_LEN_ARTICLE + MAX_LEN_HEADLINE,\n",
        "            truncation=True,\n",
        "            padding=\"max_length\",\n",
        "            return_tensors=\"pt\"\n",
        "        )\n",
        "        input_ids = enc[\"input_ids\"].squeeze(0)\n",
        "        attention_mask = enc[\"attention_mask\"].squeeze(0)\n",
        "        labels = input_ids.clone()\n",
        "        # ignore loss on article + <SEP>\n",
        "        sep_positions = (input_ids == SEP).nonzero(as_tuple=True)[0]\n",
        "        sep_index = sep_positions[0].item() if len(sep_positions)>0 else MAX_LEN_ARTICLE + MAX_LEN_HEADLINE\n",
        "\n",
        "        labels[: sep_index+1 ] = -100\n",
        "        return {\"input_ids\": input_ids, \"attention_mask\": attention_mask, \"labels\": labels}\n",
        "\n",
        "# create datasets and loaders\n",
        "train_s2s = Seq2SeqDataset(train_df)\n",
        "val_s2s   = Seq2SeqDataset(val_df)\n",
        "test_s2s  = Seq2SeqDataset(test_df)\n",
        "train_loader = DataLoader(train_s2s, batch_size=BATCH_SIZE, num_workers=4, pin_memory=True, shuffle=True)\n",
        "val_loader   = DataLoader(val_s2s,   batch_size=BATCH_SIZE, num_workers=4, pin_memory=True)\n",
        "test_loader  = DataLoader(test_s2s,  batch_size=BATCH_SIZE, num_workers=4, pin_memory=True)\n",
        "\n",
        "train_gpt2_ds = GPT2HeadlineDataset(train_df)\n",
        "val_gpt2_ds   = GPT2HeadlineDataset(val_df)\n",
        "test_gpt2_ds  = GPT2HeadlineDataset(test_df)\n"
      ]
    },
    {
      "cell_type": "code",
      "execution_count": null,
      "metadata": {
        "id": "OgQFkVcnJ0Ly"
      },
      "outputs": [],
      "source": [
        "# Seq2Seq LSTM Baseline\n",
        "class Seq2SeqLSTM(nn.Module):\n",
        "    def __init__(self, vocab_size, emb_dim, hid_size, num_layers):\n",
        "        super().__init__()\n",
        "        self.embed_enc = nn.Embedding(vocab_size, emb_dim, padding_idx=PAD)\n",
        "        self.encoder   = nn.LSTM(emb_dim, hid_size, num_layers,\n",
        "                                 batch_first=True, bidirectional=True)\n",
        "        self.embed_dec = nn.Embedding(vocab_size, emb_dim, padding_idx=PAD)\n",
        "        self.decoder   = nn.LSTM(emb_dim, hid_size*2, num_layers, batch_first=True)\n",
        "        self.out_proj  = nn.Linear(hid_size*2, vocab_size)\n",
        "\n",
        "    def forward(self, input_ids, attention_mask,\n",
        "                decoder_input_ids):\n",
        "        # encoder\n",
        "        emb = self.embed_enc(input_ids)\n",
        "        lengths = attention_mask.sum(-1)\n",
        "        packed = nn.utils.rnn.pack_padded_sequence(\n",
        "            emb, lengths.cpu(), batch_first=True, enforce_sorted=False)\n",
        "        _, (h, c) = self.encoder(packed)\n",
        "        # init decoder state\n",
        "        h0 = torch.cat([h[-2], h[-1]], dim=-1).unsqueeze(0).repeat(NUM_LAYERS,1,1)\n",
        "        c0 = torch.cat([c[-2], c[-1]], dim=-1).unsqueeze(0).repeat(NUM_LAYERS,1,1)\n",
        "        # decoder\n",
        "        emb_dec, _ = self.decoder(self.embed_dec(decoder_input_ids), (h0, c0))\n",
        "        logits = self.out_proj(emb_dec)\n",
        "        return logits\n",
        "\n",
        "def train_seq2seq():\n",
        "    model = Seq2SeqLSTM(len(tokenizer), EMBED_DIM, HIDDEN_SIZE, NUM_LAYERS).to(DEVICE)\n",
        "    optim = torch.optim.Adam(model.parameters(), lr=LR)\n",
        "    loss_fn = nn.CrossEntropyLoss(ignore_index=-100)\n",
        "    best_val = float('inf')\n",
        "    for epoch in range(1, EPOCHS+1):\n",
        "        model.train()\n",
        "        total_loss = 0\n",
        "        for batch in tqdm(train_loader, desc=f\"Epoch {epoch} [Seq2Seq]\"):\n",
        "            optim.zero_grad()\n",
        "            logits = model(\n",
        "                batch[\"input_ids\"].to(DEVICE),\n",
        "                batch[\"attention_mask\"].to(DEVICE),\n",
        "                batch[\"decoder_input_ids\"].to(DEVICE)\n",
        "            )\n",
        "            loss = loss_fn(\n",
        "                logits.view(-1, logits.size(-1)),\n",
        "                batch[\"decoder_labels\"].to(DEVICE).view(-1)\n",
        "            )\n",
        "            loss.backward()\n",
        "            nn.utils.clip_grad_norm_(model.parameters(), 1.0)\n",
        "            optim.step()\n",
        "            total_loss += loss.item()\n",
        "        avg_train = total_loss / len(train_loader)\n",
        "\n",
        "        # validation\n",
        "        model.eval()\n",
        "        val_loss = 0\n",
        "        with torch.no_grad():\n",
        "            for batch in val_loader:\n",
        "                logits = model(\n",
        "                    batch[\"input_ids\"].to(DEVICE),\n",
        "                    batch[\"attention_mask\"].to(DEVICE),\n",
        "                    batch[\"decoder_input_ids\"].to(DEVICE)\n",
        "                )\n",
        "                val_loss += loss_fn(\n",
        "                    logits.view(-1, logits.size(-1)),\n",
        "                    batch[\"decoder_labels\"].to(DEVICE).view(-1)\n",
        "                ).item()\n",
        "        avg_val = val_loss / len(val_loader)\n",
        "        print(f\"[Seq2Seq] Epoch {epoch} Train loss: {avg_train:.4f} | Val loss: {avg_val:.4f}\")\n",
        "\n",
        "        # save best\n",
        "        if avg_val < best_val:\n",
        "            best_val = avg_val\n",
        "            torch.save(model.state_dict(), \"best_seq2seq.pth\")\n",
        "    return model\n"
      ]
    },
    {
      "cell_type": "code",
      "execution_count": null,
      "metadata": {
        "id": "P5pdZHQ5sNCQ"
      },
      "outputs": [],
      "source": [
        "# Transformer Encoder-Decoder\n",
        "class TransformerEncoderBlock(nn.Module):\n",
        "    def __init__(self, hid, heads, ff_dim, dropout=DROPOUT_RATE):\n",
        "        super().__init__()\n",
        "        self.self_attn = nn.MultiheadAttention(hid, heads, batch_first=True)\n",
        "        self.dropout1  = nn.Dropout(dropout)\n",
        "        self.norm1     = nn.LayerNorm(hid)\n",
        "\n",
        "        self.ff        = nn.Sequential(\n",
        "            nn.Linear(hid, ff_dim),\n",
        "            nn.ReLU(),\n",
        "            nn.Dropout(dropout),\n",
        "            nn.Linear(ff_dim, hid)\n",
        "        )\n",
        "        self.dropout2  = nn.Dropout(dropout)\n",
        "        self.norm2     = nn.LayerNorm(hid)\n",
        "\n",
        "    def forward(self, x, src_key_padding_mask):\n",
        "        attn_out, _ = self.self_attn(\n",
        "            x, x, x,\n",
        "            key_padding_mask=src_key_padding_mask\n",
        "        )\n",
        "        x = x + self.dropout1(attn_out)\n",
        "        x = self.norm1(x)\n",
        "        ff_out = self.ff(x)\n",
        "        x = x + self.dropout2(ff_out)\n",
        "        x = self.norm2(x)\n",
        "        return x\n",
        "\n",
        "\n",
        "class TransformerDecoderBlock(nn.Module):\n",
        "    def __init__(self, hid, heads, ff_dim, dropout=DROPOUT_RATE):\n",
        "        super().__init__()\n",
        "        self.self_attn  = nn.MultiheadAttention(hid, heads, batch_first=True)\n",
        "        self.dropout1   = nn.Dropout(dropout)\n",
        "        self.norm1      = nn.LayerNorm(hid)\n",
        "\n",
        "        self.cross_attn = nn.MultiheadAttention(hid, heads, batch_first=True)\n",
        "        self.dropout2   = nn.Dropout(dropout)\n",
        "        self.norm2      = nn.LayerNorm(hid)\n",
        "\n",
        "        self.ff         = nn.Sequential(\n",
        "            nn.Linear(hid, ff_dim),\n",
        "            nn.ReLU(),\n",
        "            nn.Dropout(dropout),\n",
        "            nn.Linear(ff_dim, hid)\n",
        "        )\n",
        "        self.dropout3   = nn.Dropout(dropout)\n",
        "        self.norm3      = nn.LayerNorm(hid)\n",
        "\n",
        "    def forward(self, x, memory, tgt_mask, src_key_padding_mask, return_attn=False):\n",
        "        attn1, w1 = self.self_attn(\n",
        "            x, x, x,\n",
        "            attn_mask=tgt_mask,\n",
        "            need_weights=True\n",
        "        )\n",
        "        x = x + self.dropout1(attn1)\n",
        "        x = self.norm1(x)\n",
        "        attn2, w2 = self.cross_attn(\n",
        "            x, memory, memory,\n",
        "            key_padding_mask=src_key_padding_mask,\n",
        "            need_weights=True\n",
        "        )\n",
        "        x = x + self.dropout2(attn2)\n",
        "        x = self.norm2(x)\n",
        "        ff_out = self.ff(x)\n",
        "        x = x + self.dropout3(ff_out)\n",
        "        x = self.norm3(x)\n",
        "        if return_attn:\n",
        "            return x, (w1, w2)\n",
        "        return x\n",
        "\n",
        "\n",
        "class TransformerEncDec(nn.Module):\n",
        "    def __init__(self, vocab_size, hid, heads, ff_dim, num_layers):\n",
        "        super().__init__()\n",
        "        self.token_emb     = nn.Embedding(vocab_size, hid, padding_idx=PAD)\n",
        "        self.pos_emb_src   = nn.Parameter(torch.zeros(1, MAX_LEN_ARTICLE, hid))\n",
        "        self.pos_emb_tgt   = nn.Parameter(torch.zeros(1, MAX_LEN_HEADLINE, hid))\n",
        "        self.dropout_embed = nn.Dropout(DROPOUT_RATE)\n",
        "\n",
        "        # encoder & decoder layers\n",
        "        self.encoder_layers = nn.ModuleList([\n",
        "            TransformerEncoderBlock(hid, heads, ff_dim)\n",
        "            for _ in range(num_layers)\n",
        "        ])\n",
        "        self.decoder_layers = nn.ModuleList([\n",
        "            TransformerDecoderBlock(hid, heads, ff_dim)\n",
        "            for _ in range(num_layers)\n",
        "        ])\n",
        "        self.out = nn.Linear(hid, vocab_size)\n",
        "\n",
        "    def forward(self, src_ids, src_mask, tgt_ids, tgt_mask, return_attentions=False):\n",
        "        # Encode\n",
        "        src = self.token_emb(src_ids) + self.pos_emb_src[:, :src_ids.size(1), :]\n",
        "        src = self.dropout_embed(src)\n",
        "        src_key_padding_mask = (src_mask == 0)\n",
        "        for layer in self.encoder_layers:\n",
        "            src = layer(src, src_key_padding_mask)\n",
        "\n",
        "        # Decode\n",
        "        tgt = self.token_emb(tgt_ids) + self.pos_emb_tgt[:, :tgt_ids.size(1), :]\n",
        "        tgt = self.dropout_embed(tgt)\n",
        "        all_self_attn, all_cross_attn = [], []\n",
        "        for layer in self.decoder_layers:\n",
        "            if return_attentions:\n",
        "                tgt, (w1, w2) = layer(\n",
        "                    tgt, src, tgt_mask, src_key_padding_mask, return_attn=True\n",
        "                )\n",
        "                all_self_attn.append(w1)\n",
        "                all_cross_attn.append(w2)\n",
        "            else:\n",
        "                tgt = layer(tgt, src, tgt_mask, src_key_padding_mask)\n",
        "        logits = self.out(tgt)\n",
        "        if return_attentions:\n",
        "            return logits, all_self_attn, all_cross_attn\n",
        "        return logits\n",
        "\n"
      ]
    },
    {
      "cell_type": "code",
      "execution_count": null,
      "metadata": {
        "id": "5OFvqBye5kls"
      },
      "outputs": [],
      "source": [
        "# Train Transformer\n",
        "def train_transformer():\n",
        "    model = TransformerEncDec(len(tokenizer), hid=HIDDEN_SIZE*2, heads=TRANSFORMER_HEADS,\n",
        "                              ff_dim=TRANSFORMER_FF, num_layers=TRANSFORMER_LAYERS).to(DEVICE)\n",
        "    optim = torch.optim.Adam(model.parameters(), lr=LR)\n",
        "    loss_fn = nn.CrossEntropyLoss(ignore_index=-100)\n",
        "\n",
        "    train_losses, val_losses = [], []\n",
        "    val_bleus, val_r1s, val_rLs = [], [], []\n",
        "    best_val = float('inf')\n",
        "\n",
        "    for epoch in range(1, EPOCHS+1):\n",
        "        model.train()\n",
        "        total_loss = 0\n",
        "        for batch in tqdm(train_loader, desc=f\"Epoch {epoch}/{EPOCHS} [Train]\", leave=False):\n",
        "            optim.zero_grad()\n",
        "            src = batch[\"input_ids\"].to(DEVICE)\n",
        "            mask = batch[\"attention_mask\"].to(DEVICE)\n",
        "            tgt_in = batch[\"decoder_input_ids\"].to(DEVICE)\n",
        "            tgt_lbl = batch[\"decoder_labels\"].to(DEVICE)\n",
        "            tgt_mask = torch.triu(torch.ones(tgt_in.size(1), tgt_in.size(1)), diagonal=1).bool().to(DEVICE)\n",
        "\n",
        "            logits = model(src, mask, tgt_in, tgt_mask)\n",
        "            loss = loss_fn(logits.view(-1, logits.size(-1)), tgt_lbl.view(-1))\n",
        "            loss.backward()\n",
        "            nn.utils.clip_grad_norm_(model.parameters(), 1.0)\n",
        "            optim.step()\n",
        "            total_loss += loss.item()\n",
        "\n",
        "        avg_train = total_loss / len(train_loader)\n",
        "        train_losses.append(avg_train)\n",
        "\n",
        "        # validation loss\n",
        "        model.eval()\n",
        "        total_val_loss = 0\n",
        "        with torch.no_grad():\n",
        "            for batch in tqdm(val_loader, desc=f\"Epoch {epoch}/{EPOCHS} [Val]\", leave=False):\n",
        "                src = batch[\"input_ids\"].to(DEVICE)\n",
        "                mask = batch[\"attention_mask\"].to(DEVICE)\n",
        "                tgt_in = batch[\"decoder_input_ids\"].to(DEVICE)\n",
        "                tgt_lbl = batch[\"decoder_labels\"].to(DEVICE)\n",
        "                tgt_mask = torch.triu(torch.ones(tgt_in.size(1), tgt_in.size(1)), diagonal=1).bool().to(DEVICE)\n",
        "                logits = model(src, mask, tgt_in, tgt_mask)\n",
        "                total_val_loss += loss_fn(logits.view(-1, logits.size(-1)), tgt_lbl.view(-1)).item()\n",
        "        avg_val = total_val_loss / len(val_loader)\n",
        "        val_losses.append(avg_val)\n",
        "\n",
        "        # BLEU/ROUGE on val set\n",
        "        bleu, r1, rL = evaluate_bleu_rouge(model, val_loader, tokenizer, DEVICE, MAX_LEN_HEADLINE, \"transformer\")\n",
        "        val_bleus.append(bleu)\n",
        "        val_r1s.append(r1)\n",
        "        val_rLs.append(rL)\n",
        "\n",
        "        print(f\"[Transformer] Epoch {epoch} Train: {avg_train:.4f}, Val loss: {avg_val:.4f}, \"\n",
        "              f\"Val BLEU: {bleu:.4f}, ROUGE-1: {r1:.4f}, ROUGE-L: {rL:.4f}\")\n",
        "\n",
        "        if avg_val < best_val:\n",
        "            best_val = avg_val\n",
        "            torch.save(model.state_dict(), \"best_transformer.pth\")\n",
        "\n",
        "    # plot loss curves\n",
        "    epochs = list(range(1, EPOCHS+1))\n",
        "    plt.figure()\n",
        "    plt.plot(epochs, train_losses, label=\"train loss\")\n",
        "    plt.plot(epochs, val_losses,   label=\"val loss\")\n",
        "    plt.xlabel(\"Epoch\")\n",
        "    plt.ylabel(\"Loss\")\n",
        "    plt.title(\"Transformer Loss Curves\")\n",
        "    plt.legend()\n",
        "    plt.show()\n",
        "\n",
        "    # plot BLEU/ROUGE curves\n",
        "    plt.figure()\n",
        "    plt.plot(epochs, val_bleus, label=\"val BLEU\")\n",
        "    plt.plot(epochs, val_r1s,   label=\"val ROUGE-1\")\n",
        "    plt.plot(epochs, val_rLs,   label=\"val ROUGE-L\")\n",
        "    plt.xlabel(\"Epoch\")\n",
        "    plt.ylabel(\"Score\")\n",
        "    plt.title(\"Transformer Validation BLEU & ROUGE\")\n",
        "    plt.legend()\n",
        "    plt.show()\n",
        "\n",
        "    return model\n"
      ]
    },
    {
      "cell_type": "code",
      "execution_count": 47,
      "metadata": {
        "id": "QR62Wzv5-mnM"
      },
      "outputs": [],
      "source": [
        "import re\n",
        "from nltk.translate.bleu_score import sentence_bleu, SmoothingFunction\n",
        "from rouge_score import rouge_scorer\n",
        "\n",
        "# 1) Greedy decode for Transformer\n",
        "def greedy_decode_batch(model, src, src_mask, max_len):\n",
        "    B = src.size(0)\n",
        "    device = src.device\n",
        "    dec_input = torch.full((B,1), BOS, dtype=torch.long, device=device)\n",
        "    has_eos = torch.zeros(B, dtype=torch.bool, device=device)\n",
        "\n",
        "    for _ in range(max_len-1):\n",
        "        tgt_mask = torch.triu(torch.ones(dec_input.size(1), dec_input.size(1)),\n",
        "                              diagonal=1).bool().to(device)\n",
        "        logits = model(src, src_mask, dec_input, tgt_mask)      \n",
        "        next_tokens = logits[:, -1, :].argmax(-1).unsqueeze(1)  \n",
        "        dec_input = torch.cat([dec_input, next_tokens], dim=1)\n",
        "        has_eos |= (next_tokens.squeeze(1) == EOS)\n",
        "\n",
        "    return dec_input  # [B, ≤T]\n",
        "\n",
        "# 2) Greedy decode for Seq2Seq LSTM\n",
        "def greedy_decode_seq2seq(model, src, src_mask, max_len):\n",
        "    B = src.size(0)\n",
        "    device = src.device\n",
        "    dec_input = torch.full((B,1), BOS, dtype=torch.long, device=device)\n",
        "    has_eos = torch.zeros(B, dtype=torch.bool, device=device)\n",
        "\n",
        "    for _ in range(max_len-1):\n",
        "        logits = model(src, src_mask, dec_input)\n",
        "        next_tokens = logits[:, -1, :].argmax(-1).unsqueeze(1)\n",
        "        dec_input = torch.cat([dec_input, next_tokens], dim=1)\n",
        "        has_eos |= (next_tokens.squeeze(1) == EOS)\n",
        "    return dec_input\n",
        "\n",
        "# 3) Text normalization\n",
        "def normalize(text):\n",
        "    text = text.lower()\n",
        "    text = re.sub(r\"[^a-z0-9\\s]\", \"\", text)\n",
        "    text = re.sub(r\"\\s+\", \" \", text).strip()\n",
        "    return text\n",
        "\n",
        "# 4) BLEU & ROUGE evaluation\n",
        "def evaluate_bleu_rouge(model, data_loader, tokenizer, device, max_length, model_type=\"transformer\"):\n",
        "    model.eval()\n",
        "    bleu_smooth = SmoothingFunction().method1\n",
        "    scorer = rouge_scorer.RougeScorer(['rouge1','rougeL'], use_stemmer=True)\n",
        "    bleu_scores, rouge1_list, rougel_list = [], [], []\n",
        "\n",
        "    # Define special token IDs to filter out before decode\n",
        "    special_ids = {PAD, BOS, EOS, SEP}\n",
        "\n",
        "    with torch.no_grad():\n",
        "        for batch in data_loader:\n",
        "            src  = batch[\"input_ids\"].to(device)\n",
        "            mask = batch[\"attention_mask\"].to(device)\n",
        "\n",
        "            # Generate predictions\n",
        "            if model_type == \"seq2seq\":\n",
        "                decs = greedy_decode_seq2seq(model, src, mask, max_length)\n",
        "                refs_ids = [ lbl.tolist() for lbl in batch[\"decoder_labels\"] ]\n",
        "\n",
        "            elif model_type == \"transformer\":\n",
        "                decs = greedy_decode_batch(model, src, mask, max_length)\n",
        "                #print(decs[0].tolist())\n",
        "                refs_ids = [ lbl.tolist() for lbl in batch[\"decoder_labels\"] ]\n",
        "\n",
        "            else:  # GPT-2\n",
        "                decs = model.generate(\n",
        "                    input_ids=src,\n",
        "                    attention_mask=mask,\n",
        "                    max_new_tokens=MAX_LEN_HEADLINE,\n",
        "                    eos_token_id=EOS,\n",
        "                    pad_token_id=PAD\n",
        "                )\n",
        "                refs_ids = [ lbl.tolist() for lbl in batch[\"labels\"] ]\n",
        "\n",
        "            # Clean and decode preds & refs\n",
        "            preds, refs = [], []\n",
        "            for seq in decs:\n",
        "                ids = [tok for tok in seq.tolist() if tok not in special_ids]\n",
        "                preds.append(tokenizer.decode(ids, skip_special_tokens=False))\n",
        "                #print(preds[:5])\n",
        "\n",
        "            for ids in refs_ids:\n",
        "                # ignore -100 and special tokens\n",
        "                clean = [tok for tok in ids if tok not in special_ids and tok != -100]\n",
        "                refs.append(tokenizer.decode(clean, skip_special_tokens=False))\n",
        "\n",
        "            # Normalize and compute scores\n",
        "            for ref, hyp in zip(refs, preds):\n",
        "                ref_n = normalize(ref)\n",
        "                hyp_n = normalize(hyp)\n",
        "                r_toks = ref_n.split()\n",
        "                h_toks = hyp_n.split()\n",
        "                bleu_scores.append(\n",
        "                    sentence_bleu(\n",
        "                        [r_toks],\n",
        "                        h_toks,\n",
        "                        weights=(1,0,0,0),      \n",
        "                        smoothing_function=bleu_smooth\n",
        "                    )\n",
        "                )\n",
        "                scores = scorer.score(ref_n, hyp_n)\n",
        "                rouge1_list.append(scores[\"rouge1\"].fmeasure)\n",
        "                rougel_list.append(scores[\"rougeL\"].fmeasure)\n",
        "\n",
        "    avg_bleu = sum(bleu_scores) / len(bleu_scores) if bleu_scores else 0.0\n",
        "    avg_r1   = sum(rouge1_list) / len(rouge1_list) if rouge1_list else 0.0\n",
        "    avg_rL   = sum(rougel_list) / len(rougel_list) if rougel_list else 0.0\n",
        "\n",
        "    return avg_bleu, avg_r1, avg_rL\n"
      ]
    },
    {
      "cell_type": "code",
      "execution_count": 30,
      "metadata": {
        "id": "20dGjLxm-zh8"
      },
      "outputs": [],
      "source": [
        "\n",
        "def plot_attention(weights, layer=0):\n",
        "    attn = weights[layer][0].detach().cpu().numpy()\n",
        "    plt.figure()\n",
        "    plt.imshow(attn, aspect='auto')\n",
        "    plt.xlabel(\"Key Position\")\n",
        "    plt.ylabel(\"Query Position\")\n",
        "    plt.title(f\"Decoder Layer {layer} Avg Self-Attention\")\n",
        "    plt.colorbar()\n",
        "    plt.show()\n"
      ]
    },
    {
      "cell_type": "code",
      "execution_count": null,
      "metadata": {
        "colab": {
          "base_uri": "https://localhost:8080/"
        },
        "id": "h5Ni7ed5BzlO",
        "outputId": "8fe2d7ac-e139-4ae4-e981-a26ad3b3ceaa"
      },
      "outputs": [
        {
          "name": "stdout",
          "output_type": "stream",
          "text": [
            "=== Training Seq2Seq LSTM ===\n"
          ]
        },
        {
          "name": "stderr",
          "output_type": "stream",
          "text": [
            "Epoch 1 [Seq2Seq]: 100%|██████████| 1462/1462 [01:48<00:00, 13.47it/s]\n"
          ]
        },
        {
          "name": "stdout",
          "output_type": "stream",
          "text": [
            "[Seq2Seq] Epoch 1 Train loss: 7.1835 | Val loss: 6.6921\n"
          ]
        },
        {
          "name": "stderr",
          "output_type": "stream",
          "text": [
            "Epoch 2 [Seq2Seq]: 100%|██████████| 1462/1462 [01:46<00:00, 13.70it/s]\n"
          ]
        },
        {
          "name": "stdout",
          "output_type": "stream",
          "text": [
            "[Seq2Seq] Epoch 2 Train loss: 6.2594 | Val loss: 6.3848\n"
          ]
        },
        {
          "name": "stderr",
          "output_type": "stream",
          "text": [
            "Epoch 3 [Seq2Seq]: 100%|██████████| 1462/1462 [01:47<00:00, 13.63it/s]\n"
          ]
        },
        {
          "name": "stdout",
          "output_type": "stream",
          "text": [
            "[Seq2Seq] Epoch 3 Train loss: 5.6343 | Val loss: 6.2629\n"
          ]
        },
        {
          "name": "stderr",
          "output_type": "stream",
          "text": [
            "Epoch 4 [Seq2Seq]: 100%|██████████| 1462/1462 [01:47<00:00, 13.54it/s]\n"
          ]
        },
        {
          "name": "stdout",
          "output_type": "stream",
          "text": [
            "[Seq2Seq] Epoch 4 Train loss: 4.9549 | Val loss: 6.3060\n"
          ]
        },
        {
          "name": "stderr",
          "output_type": "stream",
          "text": [
            "Epoch 5 [Seq2Seq]: 100%|██████████| 1462/1462 [01:47<00:00, 13.66it/s]\n"
          ]
        },
        {
          "name": "stdout",
          "output_type": "stream",
          "text": [
            "[Seq2Seq] Epoch 5 Train loss: 4.2366 | Val loss: 6.4657\n"
          ]
        },
        {
          "name": "stderr",
          "output_type": "stream",
          "text": [
            "Epoch 6 [Seq2Seq]: 100%|██████████| 1462/1462 [01:46<00:00, 13.77it/s]\n"
          ]
        },
        {
          "name": "stdout",
          "output_type": "stream",
          "text": [
            "[Seq2Seq] Epoch 6 Train loss: 3.5037 | Val loss: 6.7034\n"
          ]
        },
        {
          "name": "stderr",
          "output_type": "stream",
          "text": [
            "Epoch 7 [Seq2Seq]: 100%|██████████| 1462/1462 [01:46<00:00, 13.69it/s]\n"
          ]
        },
        {
          "name": "stdout",
          "output_type": "stream",
          "text": [
            "[Seq2Seq] Epoch 7 Train loss: 2.8186 | Val loss: 6.9753\n"
          ]
        },
        {
          "name": "stderr",
          "output_type": "stream",
          "text": [
            "Epoch 8 [Seq2Seq]: 100%|██████████| 1462/1462 [01:46<00:00, 13.68it/s]\n"
          ]
        },
        {
          "name": "stdout",
          "output_type": "stream",
          "text": [
            "[Seq2Seq] Epoch 8 Train loss: 2.2009 | Val loss: 7.3003\n"
          ]
        },
        {
          "name": "stderr",
          "output_type": "stream",
          "text": [
            "Epoch 9 [Seq2Seq]: 100%|██████████| 1462/1462 [01:46<00:00, 13.75it/s]\n"
          ]
        },
        {
          "name": "stdout",
          "output_type": "stream",
          "text": [
            "[Seq2Seq] Epoch 9 Train loss: 1.6648 | Val loss: 7.6333\n"
          ]
        },
        {
          "name": "stderr",
          "output_type": "stream",
          "text": [
            "Epoch 10 [Seq2Seq]: 100%|██████████| 1462/1462 [01:47<00:00, 13.62it/s]\n"
          ]
        },
        {
          "name": "stdout",
          "output_type": "stream",
          "text": [
            "[Seq2Seq] Epoch 10 Train loss: 1.2141 | Val loss: 7.9487\n"
          ]
        }
      ],
      "source": [
        "# 1. Train & evaluate Seq2Seq LSTM\n",
        "print(\"=== Training Seq2Seq LSTM ===\")\n",
        "seq2seq_model = train_seq2seq()"
      ]
    },
    {
      "cell_type": "code",
      "execution_count": null,
      "metadata": {
        "colab": {
          "base_uri": "https://localhost:8080/"
        },
        "id": "iUbdHDgKP6cl",
        "outputId": "ef2561b7-1b20-45fa-b1b5-1678fda18f02"
      },
      "outputs": [
        {
          "name": "stdout",
          "output_type": "stream",
          "text": [
            "\n",
            "=== Evaluating Seq2Seq on test set ===\n",
            "Seq2Seq Test BLEU: 0.0591, ROUGE-1: 0.0725, ROUGE-L: 0.0676\n"
          ]
        }
      ],
      "source": [
        "print(\"\\n=== Evaluating Seq2Seq on test set ===\")\n",
        "bleu_s2s, r1_s2s, rL_s2s = evaluate_bleu_rouge(\n",
        "    seq2seq_model, test_loader, tokenizer, DEVICE, MAX_LEN_HEADLINE, model_type=\"seq2seq\"\n",
        ")\n",
        "print(f\"Seq2Seq Test BLEU: {bleu_s2s:.4f}, ROUGE-1: {r1_s2s:.4f}, ROUGE-L: {rL_s2s:.4f}\")\n"
      ]
    },
    {
      "cell_type": "code",
      "execution_count": 21,
      "metadata": {
        "colab": {
          "base_uri": "https://localhost:8080/"
        },
        "id": "O7086ImCfRrB",
        "outputId": "e140e297-0263-4513-c169-8fa0a7614dff"
      },
      "outputs": [
        {
          "name": "stdout",
          "output_type": "stream",
          "text": [
            "=== Generated Headlines ===\n",
            "\n",
            "Article: The stock market rallied today after strong earnings reports from the tech sector boosted investor confidence.\n",
            "Seq2Seq :  Volkswagen announces $52.5 billion deal with its quantum computing – TechCrunch \n",
            "\n",
            "Article: Scientists have discovered a new species of frog in the Amazon rainforest that glows under ultraviolet light.\n",
            "Seq2Seq :  Turkey's prime minister says everyone about his 70th birthday \n",
            "\n",
            "Article: The local soccer team secured their first championship in 20 years with a dramatic last-minute goal.\n",
            "Seq2Seq :  The Supreme Court Rules \n"
          ]
        }
      ],
      "source": [
        "# Test Cases\n",
        "examples = [\n",
        "    \"The stock market rallied today after strong earnings reports from the tech sector boosted investor confidence.\",\n",
        "    \"Scientists have discovered a new species of frog in the Amazon rainforest that glows under ultraviolet light.\",\n",
        "    \"The local soccer team secured their first championship in 20 years with a dramatic last-minute goal.\"\n",
        "]\n",
        "\n",
        "def generate_seq2seq_headline(model, article, max_len=MAX_LEN_HEADLINE):\n",
        "    model.eval()\n",
        "    # tokenize article\n",
        "    enc = tokenizer(article, return_tensors=\"pt\",\n",
        "                    max_length=MAX_LEN_ARTICLE, truncation=True).to(DEVICE)\n",
        "    src_ids = enc[\"input_ids\"]\n",
        "    src_mask = enc[\"attention_mask\"]\n",
        "    # greedy decode\n",
        "    dec_input = torch.full((1,1), BOS, dtype=torch.long, device=DEVICE)\n",
        "    for _ in range(max_len-1):\n",
        "        logits = model(src_ids, src_mask, dec_input)\n",
        "        next_token = logits[:, -1, :].argmax(-1).unsqueeze(1)\n",
        "        dec_input = torch.cat([dec_input, next_token], dim=1)\n",
        "        if next_token.item() == EOS:\n",
        "            break\n",
        "    return tokenizer.decode(dec_input.squeeze().cpu().tolist(),\n",
        "                             skip_special_tokens=True)\n",
        "\n",
        "print(\"=== Generated Headlines ===\")\n",
        "for art in examples:\n",
        "    print(\"\\nArticle:\", art)\n",
        "    print(\"Seq2Seq :\", generate_seq2seq_headline(seq2seq_model, art))\n"
      ]
    },
    {
      "cell_type": "code",
      "execution_count": 23,
      "metadata": {
        "colab": {
          "base_uri": "https://localhost:8080/",
          "height": 1000
        },
        "id": "ANyI5g6OWwbU",
        "outputId": "737df51b-d26a-46f3-81c6-bd5fe9798236"
      },
      "outputs": [
        {
          "name": "stdout",
          "output_type": "stream",
          "text": [
            "\n",
            "=== Training Transformer Encoder–Decoder ===\n"
          ]
        },
        {
          "name": "stderr",
          "output_type": "stream",
          "text": []
        },
        {
          "name": "stdout",
          "output_type": "stream",
          "text": [
            "[Transformer] Epoch 1 Train: 6.7926, Val loss: 6.2000, Val BLEU: 0.0405, ROUGE-1: 0.0675, ROUGE-L: 0.0656\n"
          ]
        },
        {
          "name": "stderr",
          "output_type": "stream",
          "text": []
        },
        {
          "name": "stdout",
          "output_type": "stream",
          "text": [
            "[Transformer] Epoch 2 Train: 5.0560, Val loss: 5.9995, Val BLEU: 0.0634, ROUGE-1: 0.0832, ROUGE-L: 0.0787\n"
          ]
        },
        {
          "name": "stderr",
          "output_type": "stream",
          "text": []
        },
        {
          "name": "stdout",
          "output_type": "stream",
          "text": [
            "[Transformer] Epoch 3 Train: 3.5532, Val loss: 6.2462, Val BLEU: 0.0624, ROUGE-1: 0.0800, ROUGE-L: 0.0749\n"
          ]
        },
        {
          "name": "stderr",
          "output_type": "stream",
          "text": []
        },
        {
          "name": "stdout",
          "output_type": "stream",
          "text": [
            "[Transformer] Epoch 4 Train: 2.2408, Val loss: 6.7336, Val BLEU: 0.0629, ROUGE-1: 0.0789, ROUGE-L: 0.0735\n"
          ]
        },
        {
          "name": "stderr",
          "output_type": "stream",
          "text": []
        },
        {
          "name": "stdout",
          "output_type": "stream",
          "text": [
            "[Transformer] Epoch 5 Train: 1.3766, Val loss: 7.3074, Val BLEU: 0.0589, ROUGE-1: 0.0764, ROUGE-L: 0.0719\n"
          ]
        },
        {
          "name": "stderr",
          "output_type": "stream",
          "text": []
        },
        {
          "name": "stdout",
          "output_type": "stream",
          "text": [
            "[Transformer] Epoch 6 Train: 0.9260, Val loss: 7.8241, Val BLEU: 0.0613, ROUGE-1: 0.0795, ROUGE-L: 0.0729\n"
          ]
        },
        {
          "name": "stderr",
          "output_type": "stream",
          "text": []
        },
        {
          "name": "stdout",
          "output_type": "stream",
          "text": [
            "[Transformer] Epoch 7 Train: 0.6942, Val loss: 8.2791, Val BLEU: 0.0590, ROUGE-1: 0.0788, ROUGE-L: 0.0713\n"
          ]
        },
        {
          "name": "stderr",
          "output_type": "stream",
          "text": []
        },
        {
          "name": "stdout",
          "output_type": "stream",
          "text": [
            "[Transformer] Epoch 8 Train: 0.5731, Val loss: 8.6798, Val BLEU: 0.0606, ROUGE-1: 0.0783, ROUGE-L: 0.0722\n"
          ]
        },
        {
          "name": "stderr",
          "output_type": "stream",
          "text": []
        },
        {
          "name": "stdout",
          "output_type": "stream",
          "text": [
            "[Transformer] Epoch 9 Train: 0.5037, Val loss: 9.0036, Val BLEU: 0.0590, ROUGE-1: 0.0770, ROUGE-L: 0.0701\n"
          ]
        },
        {
          "name": "stderr",
          "output_type": "stream",
          "text": []
        },
        {
          "name": "stdout",
          "output_type": "stream",
          "text": [
            "[Transformer] Epoch 10 Train: 0.4591, Val loss: 9.2523, Val BLEU: 0.0609, ROUGE-1: 0.0788, ROUGE-L: 0.0738\n"
          ]
        },
        {
          "data": {
            "image/png": "[encoded data removed]",
            "text/plain": [
              "<Figure size 640x480 with 1 Axes>"
            ]
          },
          "metadata": {},
          "output_type": "display_data"
        },
        {
          "data": {
            "image/png": "[encoded data removed]",
            "text/plain": [
              "<Figure size 640x480 with 1 Axes>"
            ]
          },
          "metadata": {},
          "output_type": "display_data"
        }
      ],
      "source": [
        "# Train & evaluate Transformer encoder–decoder\n",
        "print(\"\\n=== Training Transformer Encoder–Decoder ===\")\n",
        "transformer_model = train_transformer()"
      ]
    },
    {
      "cell_type": "code",
      "execution_count": 24,
      "metadata": {
        "colab": {
          "base_uri": "https://localhost:8080/"
        },
        "id": "lYsLlcOiWYtK",
        "outputId": "8dd7f6f8-0f84-4b1e-c946-c60f737fe25d"
      },
      "outputs": [
        {
          "name": "stdout",
          "output_type": "stream",
          "text": [
            "\n",
            "=== Evaluating Transformer on test set ===\n",
            "Transformer Test BLEU: 0.0600, ROUGE-1: 0.0769, ROUGE-L: 0.0713\n"
          ]
        }
      ],
      "source": [
        "print(\"\\n=== Evaluating Transformer on test set ===\")\n",
        "bleu_tr, r1_tr, rL_tr = evaluate_bleu_rouge(\n",
        "    transformer_model, test_loader, tokenizer, DEVICE, MAX_LEN_HEADLINE, model_type=\"transformer\"\n",
        ")\n",
        "print(f\"Transformer Test BLEU: {bleu_tr:.4f}, ROUGE-1: {r1_tr:.4f}, ROUGE-L: {rL_tr:.4f}\")"
      ]
    },
    {
      "cell_type": "code",
      "execution_count": 26,
      "metadata": {
        "colab": {
          "base_uri": "https://localhost:8080/"
        },
        "id": "xCRWzB1NXewO",
        "outputId": "663db2ce-dbed-4108-c36c-c8a32f2c9c37"
      },
      "outputs": [
        {
          "name": "stdout",
          "output_type": "stream",
          "text": [
            "=== Generated Headlines ===\n",
            "\n",
            "Article: The stock market rallied today after strong earnings reports from the tech sector boosted investor confidence.\n",
            "Transformers:  REUTERS POLLAL STOCKEDUNAR HeISPISPAREUMES REUTERS FullEDUN \n",
            "\n",
            "Article: Scientists have discovered a new species of frog in the Amazon rainforest that glows under ultraviolet light.\n",
            "Transformers:  CEOs Dimon, Moyhn U.S. increased and Op pare insurance | in the state's State \n",
            "\n",
            "Article: The local soccer team secured their first championship in 20 years with a dramatic last-minute goal.\n",
            "Transformers:  The home Best that P 6-year-old sales records \n"
          ]
        }
      ],
      "source": [
        "# Transformer headline generation\n",
        "def generate_transformer_headline(model, article, max_len=MAX_LEN_HEADLINE):\n",
        "    model.eval()\n",
        "    # tokenize article\n",
        "    enc = tokenizer(article, return_tensors=\"pt\",\n",
        "                    max_length=MAX_LEN_ARTICLE, truncation=True).to(DEVICE)\n",
        "    src_ids  = enc[\"input_ids\"]\n",
        "    src_mask = enc[\"attention_mask\"]\n",
        "    # greedy decode\n",
        "    dec_input = torch.full((1,1), BOS, dtype=torch.long, device=DEVICE)\n",
        "    for _ in range(max_len-1):\n",
        "        tgt_mask = torch.triu(torch.ones(dec_input.size(1), dec_input.size(1)),\n",
        "                              diagonal=1).bool().to(DEVICE)\n",
        "        logits = model(src_ids, src_mask, dec_input, tgt_mask)\n",
        "        next_token = logits[:, -1, :].argmax(-1).unsqueeze(1)\n",
        "        dec_input = torch.cat([dec_input, next_token], dim=1)\n",
        "        if next_token.item() == EOS:\n",
        "            break\n",
        "    # filter out special tokens\n",
        "    ids = [tok for tok in dec_input.squeeze().cpu().tolist() if tok not in {BOS, EOS, SEP, PAD}]\n",
        "    return tokenizer.decode(ids, skip_special_tokens=False)\n",
        "\n",
        "print(\"=== Generated Headlines ===\")\n",
        "for art in examples:\n",
        "    print(\"\\nArticle:\", art)\n",
        "    print(\"Transformers:\", generate_transformer_headline(transformer_model, art))\n"
      ]
    },
    {
      "cell_type": "code",
      "execution_count": 31,
      "metadata": {
        "colab": {
          "base_uri": "https://localhost:8080/",
          "height": 507
        },
        "id": "PHUowvAgX1Gx",
        "outputId": "afc37e00-4cab-49e0-8f82-dfe9dee2c1fd"
      },
      "outputs": [
        {
          "name": "stdout",
          "output_type": "stream",
          "text": [
            "\n",
            "=== Visualizing attention ===\n"
          ]
        },
        {
          "data": {
            "image/png": "[encoded data removed]",
            "text/plain": [
              "<Figure size 640x480 with 2 Axes>"
            ]
          },
          "metadata": {},
          "output_type": "display_data"
        }
      ],
      "source": [
        "# Visualize self-attention for a test sample\n",
        "print(\"\\n=== Visualizing attention ===\")\n",
        "sample = next(iter(test_loader))\n",
        "src_ids = sample[\"input_ids\"][:1].to(DEVICE)\n",
        "src_mask = sample[\"attention_mask\"][:1].to(DEVICE)\n",
        "tgt_in = sample[\"decoder_input_ids\"][:1].to(DEVICE)\n",
        "tgt_mask = torch.triu(torch.ones(tgt_in.size(1), tgt_in.size(1)), diagonal=1).bool().to(DEVICE)\n",
        "logits, self_attns, cross_attns = transformer_model(\n",
        "    src_ids, src_mask, tgt_in, tgt_mask, return_attentions=True\n",
        ")\n",
        "plot_attention(self_attns, layer=0)\n"
      ]
    },
    {
      "cell_type": "code",
      "execution_count": 36,
      "metadata": {
        "id": "gTdBdg2AdSnR"
      },
      "outputs": [],
      "source": [
        "# Finetune GPT-2\n",
        "def train_gpt2():\n",
        "    model = GPT2LMHeadModel.from_pretrained(\"gpt2\").to(DEVICE)\n",
        "    model.resize_token_embeddings(len(tokenizer))\n",
        "    args = TrainingArguments(\n",
        "        output_dir=\"gpt2_finetuned\",\n",
        "        per_device_train_batch_size=BATCH_SIZE,\n",
        "        per_device_eval_batch_size=BATCH_SIZE,\n",
        "        num_train_epochs=3,\n",
        "        learning_rate=5e-5,\n",
        "        fp16=True,\n",
        "        logging_steps=100,\n",
        "        report_to=\"none\",\n",
        "        logging_dir=\"./logs\"\n",
        "    )\n",
        "    trainer = Trainer(\n",
        "        model=model,\n",
        "        args=args,\n",
        "        train_dataset=train_gpt2_ds,\n",
        "        eval_dataset=val_gpt2_ds,\n",
        "        tokenizer=tokenizer\n",
        "    )\n",
        "    trainer.train()\n",
        "    return model"
      ]
    },
    {
      "cell_type": "code",
      "execution_count": 37,
      "metadata": {
        "colab": {
          "base_uri": "https://localhost:8080/",
          "height": 1000
        },
        "id": "kAKNRwWwZfdk",
        "outputId": "5c495a8c-b454-463e-fc79-a27264d2b77c"
      },
      "outputs": [
        {
          "name": "stdout",
          "output_type": "stream",
          "text": [
            "\n",
            "=== Fine-tuning GPT-2 ===\n"
          ]
        },
        {
          "name": "stderr",
          "output_type": "stream",
          "text": [
            "<ipython-input-36-9f3d4a8e1977>:16: FutureWarning: `tokenizer` is deprecated and will be removed in version 5.0.0 for `Trainer.__init__`. Use `processing_class` instead.\n",
            "  trainer = Trainer(\n",
            "`loss_type=None` was set in the config but it is unrecognised.Using the default loss: `ForCausalLMLoss`.\n"
          ]
        },
        {
          "data": {
            "text/html": [
              "\n",
              "    <div>\n",
              "      \n",
              "      <progress value='4386' max='4386' style='width:300px; height:20px; vertical-align: middle;'></progress>\n",
              "      [4386/4386 10:09, Epoch 3/3]\n",
              "    </div>\n",
              "    <table border=\"1\" class=\"dataframe\">\n",
              "  <thead>\n",
              " <tr style=\"text-align: left;\">\n",
              "      <th>Step</th>\n",
              "      <th>Training Loss</th>\n",
              "    </tr>\n",
              "  </thead>\n",
              "  <tbody>\n",
              "    <tr>\n",
              "      <td>100</td>\n",
              "      <td>7.939700</td>\n",
              "    </tr>\n",
              "    <tr>\n",
              "      <td>200</td>\n",
              "      <td>0.450800</td>\n",
              "    </tr>\n",
              "    <tr>\n",
              "      <td>300</td>\n",
              "      <td>0.207900</td>\n",
              "    </tr>\n",
              "    <tr>\n",
              "      <td>400</td>\n",
              "      <td>0.167100</td>\n",
              "    </tr>\n",
              "    <tr>\n",
              "      <td>500</td>\n",
              "      <td>0.170000</td>\n",
              "    </tr>\n",
              "    <tr>\n",
              "      <td>600</td>\n",
              "      <td>0.223000</td>\n",
              "    </tr>\n",
              "    <tr>\n",
              "      <td>700</td>\n",
              "      <td>0.146300</td>\n",
              "    </tr>\n",
              "    <tr>\n",
              "      <td>800</td>\n",
              "      <td>0.152500</td>\n",
              "    </tr>\n",
              "    <tr>\n",
              "      <td>900</td>\n",
              "      <td>0.184100</td>\n",
              "    </tr>\n",
              "    <tr>\n",
              "      <td>1000</td>\n",
              "      <td>0.154800</td>\n",
              "    </tr>\n",
              "    <tr>\n",
              "      <td>1100</td>\n",
              "      <td>0.152700</td>\n",
              "    </tr>\n",
              "    <tr>\n",
              "      <td>1200</td>\n",
              "      <td>0.145300</td>\n",
              "    </tr>\n",
              "    <tr>\n",
              "      <td>1300</td>\n",
              "      <td>0.153400</td>\n",
              "    </tr>\n",
              "    <tr>\n",
              "      <td>1400</td>\n",
              "      <td>0.166400</td>\n",
              "    </tr>\n",
              "    <tr>\n",
              "      <td>1500</td>\n",
              "      <td>0.153500</td>\n",
              "    </tr>\n",
              "    <tr>\n",
              "      <td>1600</td>\n",
              "      <td>0.108300</td>\n",
              "    </tr>\n",
              "    <tr>\n",
              "      <td>1700</td>\n",
              "      <td>0.125300</td>\n",
              "    </tr>\n",
              "    <tr>\n",
              "      <td>1800</td>\n",
              "      <td>0.119700</td>\n",
              "    </tr>\n",
              "    <tr>\n",
              "      <td>1900</td>\n",
              "      <td>0.120500</td>\n",
              "    </tr>\n",
              "    <tr>\n",
              "      <td>2000</td>\n",
              "      <td>0.124800</td>\n",
              "    </tr>\n",
              "    <tr>\n",
              "      <td>2100</td>\n",
              "      <td>0.133500</td>\n",
              "    </tr>\n",
              "    <tr>\n",
              "      <td>2200</td>\n",
              "      <td>0.115300</td>\n",
              "    </tr>\n",
              "    <tr>\n",
              "      <td>2300</td>\n",
              "      <td>0.126200</td>\n",
              "    </tr>\n",
              "    <tr>\n",
              "      <td>2400</td>\n",
              "      <td>0.111400</td>\n",
              "    </tr>\n",
              "    <tr>\n",
              "      <td>2500</td>\n",
              "      <td>0.116400</td>\n",
              "    </tr>\n",
              "    <tr>\n",
              "      <td>2600</td>\n",
              "      <td>0.115300</td>\n",
              "    </tr>\n",
              "    <tr>\n",
              "      <td>2700</td>\n",
              "      <td>0.134100</td>\n",
              "    </tr>\n",
              "    <tr>\n",
              "      <td>2800</td>\n",
              "      <td>0.114400</td>\n",
              "    </tr>\n",
              "    <tr>\n",
              "      <td>2900</td>\n",
              "      <td>0.113000</td>\n",
              "    </tr>\n",
              "    <tr>\n",
              "      <td>3000</td>\n",
              "      <td>0.102700</td>\n",
              "    </tr>\n",
              "    <tr>\n",
              "      <td>3100</td>\n",
              "      <td>0.105500</td>\n",
              "    </tr>\n",
              "    <tr>\n",
              "      <td>3200</td>\n",
              "      <td>0.094300</td>\n",
              "    </tr>\n",
              "    <tr>\n",
              "      <td>3300</td>\n",
              "      <td>0.090900</td>\n",
              "    </tr>\n",
              "    <tr>\n",
              "      <td>3400</td>\n",
              "      <td>0.094800</td>\n",
              "    </tr>\n",
              "    <tr>\n",
              "      <td>3500</td>\n",
              "      <td>0.090500</td>\n",
              "    </tr>\n",
              "    <tr>\n",
              "      <td>3600</td>\n",
              "      <td>0.094900</td>\n",
              "    </tr>\n",
              "    <tr>\n",
              "      <td>3700</td>\n",
              "      <td>0.094500</td>\n",
              "    </tr>\n",
              "    <tr>\n",
              "      <td>3800</td>\n",
              "      <td>0.086300</td>\n",
              "    </tr>\n",
              "    <tr>\n",
              "      <td>3900</td>\n",
              "      <td>0.094300</td>\n",
              "    </tr>\n",
              "    <tr>\n",
              "      <td>4000</td>\n",
              "      <td>0.094100</td>\n",
              "    </tr>\n",
              "    <tr>\n",
              "      <td>4100</td>\n",
              "      <td>0.093000</td>\n",
              "    </tr>\n",
              "    <tr>\n",
              "      <td>4200</td>\n",
              "      <td>0.091900</td>\n",
              "    </tr>\n",
              "    <tr>\n",
              "      <td>4300</td>\n",
              "      <td>0.096900</td>\n",
              "    </tr>\n",
              "  </tbody>\n",
              "</table><p>"
            ],
            "text/plain": [
              "<IPython.core.display.HTML object>"
            ]
          },
          "metadata": {},
          "output_type": "display_data"
        }
      ],
      "source": [
        "# Fine-tune & evaluate GPT-2\n",
        "print(\"\\n=== Fine-tuning GPT-2 ===\")\n",
        "gpt2_model = train_gpt2()"
      ]
    },
    {
      "cell_type": "code",
      "execution_count": 48,
      "metadata": {
        "colab": {
          "base_uri": "https://localhost:8080/"
        },
        "id": "NTd_xHioBtOn",
        "outputId": "0cc67e83-d292-4c36-fd9b-28dca8ac52f9"
      },
      "outputs": [
        {
          "name": "stdout",
          "output_type": "stream",
          "text": [
            "\n",
            "=== Evaluating GPT-2 on test set ===\n",
            "GPT-2 Test BLEU: 0.0448, ROUGE-1: 0.0771, ROUGE-L: 0.0771\n"
          ]
        }
      ],
      "source": [
        "print(\"\\n=== Evaluating GPT-2 on test set ===\")\n",
        "test_gpt2_loader = DataLoader(\n",
        "    test_gpt2_ds, batch_size=BATCH_SIZE, num_workers=4, pin_memory=True\n",
        ")\n",
        "bleu_gpt2, r1_gpt2, rL_gpt2 = evaluate_bleu_rouge(\n",
        "    gpt2_model, test_gpt2_loader, tokenizer, DEVICE,\n",
        "    max_length=MAX_LEN_ARTICLE + MAX_LEN_HEADLINE, model_type=\"gpt2\"\n",
        ")\n",
        "print(f\"GPT-2 Test BLEU: {bleu_gpt2:.4f}, ROUGE-1: {r1_gpt2:.4f}, ROUGE-L: {rL_gpt2:.4f}\")\n",
        "\n"
      ]
    },
    {
      "cell_type": "code",
      "execution_count": 49,
      "metadata": {
        "colab": {
          "base_uri": "https://localhost:8080/"
        },
        "id": "Xl6mVTcHjzV8",
        "outputId": "42ad81ec-9587-404a-9d41-0c046e4ff7c8"
      },
      "outputs": [
        {
          "name": "stdout",
          "output_type": "stream",
          "text": [
            "=== Generated Headlines After GPT-2 Fine-tuning ===\n",
            "\n",
            "Article: The stock market rallied today after strong earnings reports from the tech sector boosted investor confidence.\n",
            "GPT-2   :  Stock market rally: Tech stocks boost investor confidence \n",
            "\n",
            "Article: Scientists have discovered a new species of frog in the Amazon rainforest that glows under ultraviolet light.\n",
            "GPT-2   :  A new species of frog is found in the Amazon rainforest \n",
            "\n",
            "Article: The local soccer team secured their first championship in 20 years with a dramatic last-minute goal.\n",
            "GPT-2   :  Soccer's first championship in 20 years \n"
          ]
        }
      ],
      "source": [
        "# Finetuned GPT-2 headline generation\n",
        "def generate_gpt2_headline(model, article, max_len=MAX_LEN_HEADLINE):\n",
        "    model.eval()\n",
        "    # build the prompt: BOS + article + SEP\n",
        "    prompt = \"<BOS> \" + article + \" <SEP>\"\n",
        "    enc = tokenizer(\n",
        "        prompt,\n",
        "        return_tensors=\"pt\",\n",
        "        max_length=MAX_LEN_ARTICLE,\n",
        "        truncation=True,\n",
        "        padding=\"max_length\"\n",
        "    ).to(DEVICE)\n",
        "    input_ids = enc[\"input_ids\"]\n",
        "    attention_mask = enc[\"attention_mask\"]\n",
        "\n",
        "    # generate up to max_len new tokens\n",
        "    gen_ids = model.generate(\n",
        "        input_ids=input_ids,\n",
        "        attention_mask=attention_mask,\n",
        "        max_new_tokens=max_len,\n",
        "        eos_token_id=EOS,\n",
        "        pad_token_id=PAD\n",
        "    )\n",
        "    # convert to list and locate SEP\n",
        "    tokens = gen_ids[0].tolist()\n",
        "    if SEP in tokens:\n",
        "        sep_idx = tokens.index(SEP)\n",
        "        headline_ids = tokens[sep_idx+1:]\n",
        "    else:\n",
        "        # fallback: drop BOS at position 0\n",
        "        headline_ids = tokens[1:]\n",
        "\n",
        "    # filter out any special tokens\n",
        "    special_ids = {BOS, EOS, SEP, PAD}\n",
        "    clean_ids = [tok for tok in headline_ids if tok not in special_ids]\n",
        "    return tokenizer.decode(clean_ids, skip_special_tokens=False)\n",
        "\n",
        "# print out some examples\n",
        "print(\"=== Generated Headlines After GPT-2 Fine-tuning ===\")\n",
        "for art in examples:\n",
        "    print(\"\\nArticle:\", art)\n",
        "    print(\"GPT-2   :\", generate_gpt2_headline(gpt2_model, art))\n"
      ]
    },
    {
      "cell_type": "code",
      "execution_count": null,
      "metadata": {
        "colab": {
          "base_uri": "https://localhost:8080/",
          "height": 240,
          "referenced_widgets": [
            "9f6b5cf6f4aa48a5acfb151d5402ca60",
            "5b803be887c941bea9add413576b05a5",
            "c33b956975d34f90b33818f0c35dde54",
            "adb43e23b64742af816dae1fbb8ce831",
            "7b5fd56801bc4c8cad0be2e5f411290d",
            "b6502cab3f87460b9f1c3e5d1127269d",
            "a368babb750946fd84ebba107e88532c",
            "bdf8a4c2f9b54c68a54b175bb5e303b2",
            "2ec8a55775cf41938bc6e5b767b11f06",
            "caf4b057137b4a7a9819966cba264477",
            "35e8e92995d84e13bf517f3c22ac8a1f",
            "00d70fdbeb8d49cc854f6821ab47b056",
            "ce42c4ca278b4812b963c05e722d41a3"
          ]
        },
        "id": "ij8abe5ukJ4s",
        "outputId": "d22c18a5-4a92-4c30-c758-0c650890bb76"
      },
      "outputs": [],
      "source": [
        "# GUI, a small function that allows user to input and generate News Headlines.\n",
        "import ipywidgets as widgets\n",
        "from IPython.display import display, clear_output\n",
        "\n",
        "# Model selector\n",
        "model_dropdown = widgets.Dropdown(\n",
        "    options=[\"Seq2Seq\", \"Transformer\", \"GPT-2\"],\n",
        "    value=\"Seq2Seq\",\n",
        "    description=\"Model:\"\n",
        ")\n",
        "\n",
        "# Article input box\n",
        "article_input = widgets.Textarea(\n",
        "    description=\"Article:\",\n",
        "    layout=widgets.Layout(width='800px', height='120px')\n",
        ")\n",
        "\n",
        "# Generate button\n",
        "generate_button = widgets.Button(\n",
        "    description=\"Generate Headlines\",\n",
        "    button_style='primary'\n",
        ")\n",
        "\n",
        "# Output area\n",
        "output_area = widgets.Output()\n",
        "\n",
        "# Callback on button click\n",
        "def on_generate_clicked(b):\n",
        "    with output_area:\n",
        "        clear_output()\n",
        "        art = article_input.value.strip()\n",
        "        if not art:\n",
        "            print(\"Please enter an article or summary.\")\n",
        "            return\n",
        "\n",
        "        model_name = model_dropdown.value\n",
        "        print(f\"=== {model_name} Generated Headlines ===\")\n",
        "\n",
        "        if model_name == \"Seq2Seq\":\n",
        "            title = generate_seq2seq_headline(seq2seq_model, art)\n",
        "            print(f\"1. {title}\")\n",
        "\n",
        "        elif model_name == \"Transformer\":\n",
        "            title = generate_transformer_headline(transformer_model, art)\n",
        "            print(f\"1. {title}\")\n",
        "\n",
        "        else:  # GPT-2\n",
        "            prompt = \"<BOS> \" + art + \" <SEP>\"\n",
        "            enc = tokenizer(\n",
        "                prompt,\n",
        "                return_tensors=\"pt\",\n",
        "                max_length=MAX_LEN_ARTICLE,\n",
        "                truncation=True,\n",
        "                padding=\"max_length\"\n",
        "            ).to(DEVICE)\n",
        "            gen_ids = gpt2_model.generate(\n",
        "                input_ids=enc[\"input_ids\"],\n",
        "                attention_mask=enc[\"attention_mask\"],\n",
        "                max_new_tokens=MAX_LEN_HEADLINE,\n",
        "                do_sample=True,\n",
        "                top_k=50,\n",
        "                top_p=0.95,\n",
        "                num_return_sequences=1,\n",
        "                eos_token_id=EOS,\n",
        "                pad_token_id=PAD\n",
        "            )\n",
        "            for i, seq in enumerate(gen_ids):\n",
        "                tokens = seq.tolist()\n",
        "                sep_idx = tokens.index(SEP) if SEP in tokens else 0\n",
        "                headline_ids = [tok for tok in tokens[sep_idx+1:] if tok not in {BOS, EOS, SEP, PAD}]\n",
        "                title = tokenizer.decode(headline_ids, skip_special_tokens=False)\n",
        "                print(f\"{i+1}. {title}\")\n",
        "\n",
        "generate_button.on_click(on_generate_clicked)\n",
        "ui = widgets.VBox([model_dropdown, article_input, generate_button, output_area])\n",
        "display(ui)\n"
      ]
    }
  ],
  "metadata": {
    "accelerator": "GPU",
    "colab": {
      "gpuType": "A100",
      "machine_shape": "hm",
      "provenance": []
    },
    "kernelspec": {
      "display_name": "Python 3",
      "name": "python3"
    },
    "language_info": {
      "name": "python"
    },
    "widgets": {
      "application/vnd.jupyter.widget-state+json": {
        "00d70fdbeb8d49cc854f6821ab47b056": {
          "model_module": "@jupyter-widgets/controls",
          "model_module_version": "1.5.0",
          "model_name": "ButtonStyleModel",
          "state": {
            "_model_module": "@jupyter-widgets/controls",
            "_model_module_version": "1.5.0",
            "_model_name": "ButtonStyleModel",
            "_view_count": null,
            "_view_module": "@jupyter-widgets/base",
            "_view_module_version": "1.2.0",
            "_view_name": "StyleView",
            "button_color": null,
            "font_weight": ""
          }
        },
        "2ec8a55775cf41938bc6e5b767b11f06": {
          "model_module": "@jupyter-widgets/base",
          "model_module_version": "1.2.0",
          "model_name": "LayoutModel",
          "state": {
            "_model_module": "@jupyter-widgets/base",
            "_model_module_version": "1.2.0",
            "_model_name": "LayoutModel",
            "_view_count": null,
            "_view_module": "@jupyter-widgets/base",
            "_view_module_version": "1.2.0",
            "_view_name": "LayoutView",
            "align_content": null,
            "align_items": null,
            "align_self": null,
            "border": null,
            "bottom": null,
            "display": null,
            "flex": null,
            "flex_flow": null,
            "grid_area": null,
            "grid_auto_columns": null,
            "grid_auto_flow": null,
            "grid_auto_rows": null,
            "grid_column": null,
            "grid_gap": null,
            "grid_row": null,
            "grid_template_areas": null,
            "grid_template_columns": null,
            "grid_template_rows": null,
            "height": "120px",
            "justify_content": null,
            "justify_items": null,
            "left": null,
            "margin": null,
            "max_height": null,
            "max_width": null,
            "min_height": null,
            "min_width": null,
            "object_fit": null,
            "object_position": null,
            "order": null,
            "overflow": null,
            "overflow_x": null,
            "overflow_y": null,
            "padding": null,
            "right": null,
            "top": null,
            "visibility": null,
            "width": "800px"
          }
        },
        "35e8e92995d84e13bf517f3c22ac8a1f": {
          "model_module": "@jupyter-widgets/base",
          "model_module_version": "1.2.0",
          "model_name": "LayoutModel",
          "state": {
            "_model_module": "@jupyter-widgets/base",
            "_model_module_version": "1.2.0",
            "_model_name": "LayoutModel",
            "_view_count": null,
            "_view_module": "@jupyter-widgets/base",
            "_view_module_version": "1.2.0",
            "_view_name": "LayoutView",
            "align_content": null,
            "align_items": null,
            "align_self": null,
            "border": null,
            "bottom": null,
            "display": null,
            "flex": null,
            "flex_flow": null,
            "grid_area": null,
            "grid_auto_columns": null,
            "grid_auto_flow": null,
            "grid_auto_rows": null,
            "grid_column": null,
            "grid_gap": null,
            "grid_row": null,
            "grid_template_areas": null,
            "grid_template_columns": null,
            "grid_template_rows": null,
            "height": null,
            "justify_content": null,
            "justify_items": null,
            "left": null,
            "margin": null,
            "max_height": null,
            "max_width": null,
            "min_height": null,
            "min_width": null,
            "object_fit": null,
            "object_position": null,
            "order": null,
            "overflow": null,
            "overflow_x": null,
            "overflow_y": null,
            "padding": null,
            "right": null,
            "top": null,
            "visibility": null,
            "width": null
          }
        },
        "5b803be887c941bea9add413576b05a5": {
          "model_module": "@jupyter-widgets/controls",
          "model_module_version": "1.5.0",
          "model_name": "DropdownModel",
          "state": {
            "_dom_classes": [],
            "_model_module": "@jupyter-widgets/controls",
            "_model_module_version": "1.5.0",
            "_model_name": "DropdownModel",
            "_options_labels": [
              "Seq2Seq",
              "Transformer",
              "GPT-2"
            ],
            "_view_count": null,
            "_view_module": "@jupyter-widgets/controls",
            "_view_module_version": "1.5.0",
            "_view_name": "DropdownView",
            "description": "Model:",
            "description_tooltip": null,
            "disabled": false,
            "index": 2,
            "layout": "IPY_MODEL_a368babb750946fd84ebba107e88532c",
            "style": "IPY_MODEL_bdf8a4c2f9b54c68a54b175bb5e303b2"
          }
        },
        "7b5fd56801bc4c8cad0be2e5f411290d": {
          "model_module": "@jupyter-widgets/output",
          "model_module_version": "1.0.0",
          "model_name": "OutputModel",
          "state": {
            "_dom_classes": [],
            "_model_module": "@jupyter-widgets/output",
            "_model_module_version": "1.0.0",
            "_model_name": "OutputModel",
            "_view_count": null,
            "_view_module": "@jupyter-widgets/output",
            "_view_module_version": "1.0.0",
            "_view_name": "OutputView",
            "layout": "IPY_MODEL_ce42c4ca278b4812b963c05e722d41a3",
            "msg_id": "",
            "outputs": [
              {
                "name": "stdout",
                "output_type": "stream",
                "text": [
                  "=== GPT-2 Generated Headlines ===\n"
                ]
              },
              {
                "name": "stdout",
                "output_type": "stream",
                "text": [
                  "1.  S&P 500 stock picks ahead of strong earnings reports \n"
                ]
              }
            ]
          }
        },
        "9f6b5cf6f4aa48a5acfb151d5402ca60": {
          "model_module": "@jupyter-widgets/controls",
          "model_module_version": "1.5.0",
          "model_name": "VBoxModel",
          "state": {
            "_dom_classes": [],
            "_model_module": "@jupyter-widgets/controls",
            "_model_module_version": "1.5.0",
            "_model_name": "VBoxModel",
            "_view_count": null,
            "_view_module": "@jupyter-widgets/controls",
            "_view_module_version": "1.5.0",
            "_view_name": "VBoxView",
            "box_style": "",
            "children": [
              "IPY_MODEL_5b803be887c941bea9add413576b05a5",
              "IPY_MODEL_c33b956975d34f90b33818f0c35dde54",
              "IPY_MODEL_adb43e23b64742af816dae1fbb8ce831",
              "IPY_MODEL_7b5fd56801bc4c8cad0be2e5f411290d"
            ],
            "layout": "IPY_MODEL_b6502cab3f87460b9f1c3e5d1127269d"
          }
        },
        "a368babb750946fd84ebba107e88532c": {
          "model_module": "@jupyter-widgets/base",
          "model_module_version": "1.2.0",
          "model_name": "LayoutModel",
          "state": {
            "_model_module": "@jupyter-widgets/base",
            "_model_module_version": "1.2.0",
            "_model_name": "LayoutModel",
            "_view_count": null,
            "_view_module": "@jupyter-widgets/base",
            "_view_module_version": "1.2.0",
            "_view_name": "LayoutView",
            "align_content": null,
            "align_items": null,
            "align_self": null,
            "border": null,
            "bottom": null,
            "display": null,
            "flex": null,
            "flex_flow": null,
            "grid_area": null,
            "grid_auto_columns": null,
            "grid_auto_flow": null,
            "grid_auto_rows": null,
            "grid_column": null,
            "grid_gap": null,
            "grid_row": null,
            "grid_template_areas": null,
            "grid_template_columns": null,
            "grid_template_rows": null,
            "height": null,
            "justify_content": null,
            "justify_items": null,
            "left": null,
            "margin": null,
            "max_height": null,
            "max_width": null,
            "min_height": null,
            "min_width": null,
            "object_fit": null,
            "object_position": null,
            "order": null,
            "overflow": null,
            "overflow_x": null,
            "overflow_y": null,
            "padding": null,
            "right": null,
            "top": null,
            "visibility": null,
            "width": null
          }
        },
        "adb43e23b64742af816dae1fbb8ce831": {
          "model_module": "@jupyter-widgets/controls",
          "model_module_version": "1.5.0",
          "model_name": "ButtonModel",
          "state": {
            "_dom_classes": [],
            "_model_module": "@jupyter-widgets/controls",
            "_model_module_version": "1.5.0",
            "_model_name": "ButtonModel",
            "_view_count": null,
            "_view_module": "@jupyter-widgets/controls",
            "_view_module_version": "1.5.0",
            "_view_name": "ButtonView",
            "button_style": "primary",
            "description": "Generate Headlines",
            "disabled": false,
            "icon": "",
            "layout": "IPY_MODEL_35e8e92995d84e13bf517f3c22ac8a1f",
            "style": "IPY_MODEL_00d70fdbeb8d49cc854f6821ab47b056",
            "tooltip": ""
          }
        },
        "b6502cab3f87460b9f1c3e5d1127269d": {
          "model_module": "@jupyter-widgets/base",
          "model_module_version": "1.2.0",
          "model_name": "LayoutModel",
          "state": {
            "_model_module": "@jupyter-widgets/base",
            "_model_module_version": "1.2.0",
            "_model_name": "LayoutModel",
            "_view_count": null,
            "_view_module": "@jupyter-widgets/base",
            "_view_module_version": "1.2.0",
            "_view_name": "LayoutView",
            "align_content": null,
            "align_items": null,
            "align_self": null,
            "border": null,
            "bottom": null,
            "display": null,
            "flex": null,
            "flex_flow": null,
            "grid_area": null,
            "grid_auto_columns": null,
            "grid_auto_flow": null,
            "grid_auto_rows": null,
            "grid_column": null,
            "grid_gap": null,
            "grid_row": null,
            "grid_template_areas": null,
            "grid_template_columns": null,
            "grid_template_rows": null,
            "height": null,
            "justify_content": null,
            "justify_items": null,
            "left": null,
            "margin": null,
            "max_height": null,
            "max_width": null,
            "min_height": null,
            "min_width": null,
            "object_fit": null,
            "object_position": null,
            "order": null,
            "overflow": null,
            "overflow_x": null,
            "overflow_y": null,
            "padding": null,
            "right": null,
            "top": null,
            "visibility": null,
            "width": null
          }
        },
        "bdf8a4c2f9b54c68a54b175bb5e303b2": {
          "model_module": "@jupyter-widgets/controls",
          "model_module_version": "1.5.0",
          "model_name": "DescriptionStyleModel",
          "state": {
            "_model_module": "@jupyter-widgets/controls",
            "_model_module_version": "1.5.0",
            "_model_name": "DescriptionStyleModel",
            "_view_count": null,
            "_view_module": "@jupyter-widgets/base",
            "_view_module_version": "1.2.0",
            "_view_name": "StyleView",
            "description_width": ""
          }
        },
        "c33b956975d34f90b33818f0c35dde54": {
          "model_module": "@jupyter-widgets/controls",
          "model_module_version": "1.5.0",
          "model_name": "TextareaModel",
          "state": {
            "_dom_classes": [],
            "_model_module": "@jupyter-widgets/controls",
            "_model_module_version": "1.5.0",
            "_model_name": "TextareaModel",
            "_view_count": null,
            "_view_module": "@jupyter-widgets/controls",
            "_view_module_version": "1.5.0",
            "_view_name": "TextareaView",
            "continuous_update": true,
            "description": "Article:",
            "description_tooltip": null,
            "disabled": false,
            "layout": "IPY_MODEL_2ec8a55775cf41938bc6e5b767b11f06",
            "placeholder": "​",
            "rows": null,
            "style": "IPY_MODEL_caf4b057137b4a7a9819966cba264477",
            "value": "The stock market rallied today after strong earnings reports from the tech sector boosted investor confidence."
          }
        },
        "caf4b057137b4a7a9819966cba264477": {
          "model_module": "@jupyter-widgets/controls",
          "model_module_version": "1.5.0",
          "model_name": "DescriptionStyleModel",
          "state": {
            "_model_module": "@jupyter-widgets/controls",
            "_model_module_version": "1.5.0",
            "_model_name": "DescriptionStyleModel",
            "_view_count": null,
            "_view_module": "@jupyter-widgets/base",
            "_view_module_version": "1.2.0",
            "_view_name": "StyleView",
            "description_width": ""
          }
        },
        "ce42c4ca278b4812b963c05e722d41a3": {
          "model_module": "@jupyter-widgets/base",
          "model_module_version": "1.2.0",
          "model_name": "LayoutModel",
          "state": {
            "_model_module": "@jupyter-widgets/base",
            "_model_module_version": "1.2.0",
            "_model_name": "LayoutModel",
            "_view_count": null,
            "_view_module": "@jupyter-widgets/base",
            "_view_module_version": "1.2.0",
            "_view_name": "LayoutView",
            "align_content": null,
            "align_items": null,
            "align_self": null,
            "border": null,
            "bottom": null,
            "display": null,
            "flex": null,
            "flex_flow": null,
            "grid_area": null,
            "grid_auto_columns": null,
            "grid_auto_flow": null,
            "grid_auto_rows": null,
            "grid_column": null,
            "grid_gap": null,
            "grid_row": null,
            "grid_template_areas": null,
            "grid_template_columns": null,
            "grid_template_rows": null,
            "height": null,
            "justify_content": null,
            "justify_items": null,
            "left": null,
            "margin": null,
            "max_height": null,
            "max_width": null,
            "min_height": null,
            "min_width": null,
            "object_fit": null,
            "object_position": null,
            "order": null,
            "overflow": null,
            "overflow_x": null,
            "overflow_y": null,
            "padding": null,
            "right": null,
            "top": null,
            "visibility": null,
            "width": null
          }
        }
      }
    }
  },
  "nbformat": 4,
  "nbformat_minor": 0
}
